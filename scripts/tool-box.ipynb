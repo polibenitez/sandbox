{
 "cells": [
  {
   "cell_type": "code",
   "execution_count": 7,
   "metadata": {},
   "outputs": [
    {
     "name": "stdout",
     "output_type": "stream",
     "text": [
      "Channels:\n",
      " - defaults\n",
      " - conda-forge\n",
      "Platform: linux-64\n",
      "Collecting package metadata (repodata.json): ...working... done\n",
      "Solving environment: ...working... done\n",
      "\n",
      "## Package Plan ##\n",
      "\n",
      "  environment location: /home/polibenitez/anaconda3/envs/complxt\n",
      "\n",
      "  added / updated specs:\n",
      "    - requests\n",
      "\n",
      "\n",
      "The following packages will be downloaded:\n",
      "\n",
      "    package                    |            build\n",
      "    ---------------------------|-----------------\n",
      "    brotli-python-1.0.9        |  py313h6a678d5_9         356 KB\n",
      "    certifi-2024.12.14         |  py313h06a4308_0         159 KB\n",
      "    idna-3.7                   |  py313h06a4308_0         104 KB\n",
      "    pysocks-1.7.1              |  py313h06a4308_0          35 KB\n",
      "    requests-2.32.3            |  py313h06a4308_1         125 KB\n",
      "    urllib3-2.3.0              |  py313h06a4308_0         244 KB\n",
      "    ------------------------------------------------------------\n",
      "                                           Total:        1023 KB\n",
      "\n",
      "The following NEW packages will be INSTALLED:\n",
      "\n",
      "  brotli-python      pkgs/main/linux-64::brotli-python-1.0.9-py313h6a678d5_9 \n",
      "  certifi            pkgs/main/linux-64::certifi-2024.12.14-py313h06a4308_0 \n",
      "  charset-normalizer pkgs/main/noarch::charset-normalizer-3.3.2-pyhd3eb1b0_0 \n",
      "  idna               pkgs/main/linux-64::idna-3.7-py313h06a4308_0 \n",
      "  pysocks            pkgs/main/linux-64::pysocks-1.7.1-py313h06a4308_0 \n",
      "  requests           pkgs/main/linux-64::requests-2.32.3-py313h06a4308_1 \n",
      "  urllib3            pkgs/main/linux-64::urllib3-2.3.0-py313h06a4308_0 \n",
      "\n",
      "\n",
      "Proceed ([y]/n)? \n",
      "\n",
      "Downloading and Extracting Packages: ...working... done\n",
      "Preparing transaction: ...working... done\n",
      "Verifying transaction: ...working... done\n",
      "Executing transaction: ...working... done\n"
     ]
    }
   ],
   "source": [
    "%%bash\n",
    "conda install requests"
   ]
  },
  {
   "cell_type": "code",
   "execution_count": null,
   "metadata": {},
   "outputs": [],
   "source": [
    "import requests\n",
    "import json\n",
    "\n",
    "def llamar_deepseek(prompt, modelo=\"deepseek-r1:14b\", url_base=\"http://localhost:11434/api/generate\"):\n",
    "    \"\"\"\n",
    "    Función para hacer llamadas a un modelo de DeepSeek levantado localmente usando Ollama.\n",
    "\n",
    "    :param prompt: El texto de entrada que se enviará al modelo.\n",
    "    :param modelo: El nombre del modelo que deseas usar (por defecto es \"deepseek\").\n",
    "    :param url_base: La URL base del servidor local de Ollama (por defecto es \"http://localhost:11434/api/generate\").\n",
    "    :return: La respuesta generada por el modelo.\n",
    "    \"\"\"\n",
    "    # Configura los datos que se enviarán en la solicitud POST\n",
    "    datos = {\n",
    "        \"model\": modelo,\n",
    "        \"prompt\": prompt,\n",
    "        \"stream\": False  # Si deseas recibir la respuesta en streaming, cambia a True\n",
    "    }\n",
    "\n",
    "    # Realiza la solicitud POST al servidor local de Ollama\n",
    "    respuesta = requests.post(url_base, json=datos)\n",
    "\n",
    "    # Verifica si la solicitud fue exitosa\n",
    "    if respuesta.status_code == 200:\n",
    "        # Decodifica la respuesta JSON\n",
    "        respuesta_json = respuesta.json()\n",
    "        return respuesta_json.get(\"response\", \"No se recibió respuesta del modelo.\")\n",
    "    else:\n",
    "        # Si la solicitud no fue exitosa, lanza una excepción con el código de estado\n",
    "        raise Exception(f\"Error en la solicitud: {respuesta.status_code} - {respuesta.text}\")\n",
    "\n",
    "# Ejemplo de uso\n",
    "if __name__ == \"__main__\":\n",
    "    prompt =  \"\"\"\n",
    "                        Act as an address parsing and standardization service. Given a list of addresses, extract and standardize the following components:\n",
    "                        - street: Full street address including number\n",
    "                        - city: City/town/municipality name\n",
    "                        - postcode: Postal/ZIP code\n",
    "                        - country: Full country name\n",
    "                        - nuts3: NUTS3 region code if available\n",
    "                        \n",
    "                        Requirements:\n",
    "                        - Use DOUBLE QUOTES for JSON properties\n",
    "                        - Standardize addresses while preserving original information\n",
    "                        - Fill in missing components when possible based on context\n",
    "                        - Return null for truly missing/unidentifiable components\n",
    "                        \n",
    "                        Example output format:\n",
    "                        [{\n",
    "                            \"street\": \"123 Main Street\",\n",
    "                            \"city\": \"Brussels\",\n",
    "                            \"postcode\": \"1000\",\n",
    "                            \"country\": \"Belgium\",\n",
    "                            \"nuts3\": \"BE100\"\n",
    "                        }]\n",
    "                    \"\"\"\n",
    "    try:\n",
    "        respuesta = llamar_deepseek(prompt)\n",
    "        print(\"Respuesta del modelo:\", respuesta)\n",
    "    except Exception as e:\n",
    "        print(e)"
   ]
  },
  {
   "cell_type": "code",
   "execution_count": 3,
   "metadata": {},
   "outputs": [
    {
     "name": "stdout",
     "output_type": "stream",
     "text": [
      "Process finished for file. Time elapsed: 1h 41m 20.00s\n"
     ]
    }
   ],
   "source": [
    "import time\n",
    "\n",
    "# Función para convertir segundos a horas, minutos y segundos\n",
    "def format_time(seconds):\n",
    "    hours = int(seconds // 3600)  # 1 hora = 3600 segundos\n",
    "    seconds %= 3600\n",
    "    minutes = int(seconds // 60)  # 1 minuto = 60 segundos\n",
    "    seconds %= 60\n",
    "    return f\"{hours}h {minutes}m {seconds:.2f}s\"\n",
    "\n",
    "\n",
    "print(f'Process finished for file. Time elapsed: {format_time(6080)}')"
   ]
  },
  {
   "cell_type": "code",
   "execution_count": 2,
   "metadata": {},
   "outputs": [
    {
     "name": "stdout",
     "output_type": "stream",
     "text": [
      "832589\n"
     ]
    }
   ],
   "source": [
    "import pandas as pd\n",
    "\n",
    "df = pd.read_parquet('patents_complx_gb/gb.parquet')\n",
    "print(len(df))\n",
    "df1 = df.head(1000)\n",
    "df1.to_parquet('patents_complx_gb/gb1.parquet')"
   ]
  },
  {
   "cell_type": "code",
   "execution_count": 1,
   "metadata": {},
   "outputs": [],
   "source": [
    "import pyarrow.parquet as pq\n",
    "import pyarrow as pa\n",
    "\n",
    "# Leer el archivo Parquet\n",
    "table = pq.read_table('patents_complx_gb/gb.parquet')\n",
    "\n",
    "# Calcular el tamaño de cada parte\n",
    "n = len(table)\n",
    "part_size = n // 3\n",
    "\n",
    "# Dividir la tabla en 3 partes\n",
    "part1 = table.slice(0, part_size)\n",
    "part2 = table.slice(part_size, part_size)\n",
    "part3 = table.slice(2 * part_size)\n",
    "\n",
    "# Guardar cada parte\n",
    "pq.write_table(part1, 'patents_complx_gb/parte1.parquet')\n",
    "pq.write_table(part2, 'patents_complx_gb/parte2.parquet')\n",
    "pq.write_table(part3, 'patents_complx_gb/parte3.parquet')"
   ]
  }
 ],
 "metadata": {
  "kernelspec": {
   "display_name": "complxt",
   "language": "python",
   "name": "python3"
  },
  "language_info": {
   "codemirror_mode": {
    "name": "ipython",
    "version": 3
   },
   "file_extension": ".py",
   "mimetype": "text/x-python",
   "name": "python",
   "nbconvert_exporter": "python",
   "pygments_lexer": "ipython3",
   "version": "3.13.1"
  }
 },
 "nbformat": 4,
 "nbformat_minor": 2
}
